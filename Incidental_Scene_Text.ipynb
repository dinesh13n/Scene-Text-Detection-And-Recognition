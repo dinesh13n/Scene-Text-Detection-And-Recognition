{
  "nbformat": 4,
  "nbformat_minor": 0,
  "metadata": {
    "colab": {
      "provenance": [],
      "mount_file_id": "11oegw1HWvubnWSs3lRB2qc1rLmnCEdoA",
      "authorship_tag": "ABX9TyOBPWzWTcNboAm/Hq+p+4M2",
      "include_colab_link": true
    },
    "kernelspec": {
      "name": "python3",
      "display_name": "Python 3"
    },
    "language_info": {
      "name": "python"
    }
  },
  "cells": [
    {
      "cell_type": "markdown",
      "metadata": {
        "id": "view-in-github",
        "colab_type": "text"
      },
      "source": [
        "<a href=\"https://colab.research.google.com/github/dinesh13n/Scene-Text-Detection-And-Recognition/blob/main/Incidental_Scene_Text.ipynb\" target=\"_parent\"><img src=\"https://colab.research.google.com/assets/colab-badge.svg\" alt=\"Open In Colab\"/></a>"
      ]
    },
    {
      "cell_type": "markdown",
      "source": [
        "***Exploratory Data Analysis (EDA)***"
      ],
      "metadata": {
        "id": "sDkaU5TX7ysL"
      }
    },
    {
      "cell_type": "code",
      "source": [
        "import numpy as np\n",
        "import pandas as pd\n",
        "import os\n",
        "import random\n",
        "import cv2\n",
        "from google.colab.patches import cv2_imshow\n",
        "import matplotlib.pyplot as plt\n",
        "#import spell_corrector as sc\n",
        "import math\n",
        "from PIL import Image, ImageDraw\n",
        "from PIL import ImagePath\n",
        "import pandas as pd\n",
        "from os import path\n",
        "from tqdm import tqdm"
      ],
      "metadata": {
        "id": "8Pu1OYom76eU"
      },
      "execution_count": 35,
      "outputs": []
    },
    {
      "cell_type": "markdown",
      "source": [
        "https://jovian.com/paritosh/eda/v/1?utm_source=embed#C8"
      ],
      "metadata": {
        "id": "qCcllgTNQrpf"
      }
    },
    {
      "cell_type": "code",
      "source": [
        "import pathlib\n",
        "dir_path = \"/content/drive/MyDrive/AI-ML/Scene Text/Data\"\n",
        "data_root = pathlib.Path(dir_path)\n",
        "print(data_root)"
      ],
      "metadata": {
        "colab": {
          "base_uri": "https://localhost:8080/"
        },
        "id": "mcQRlKip8AjO",
        "outputId": "a14426d3-d08b-4178-a4bc-978f408994d8"
      },
      "execution_count": 47,
      "outputs": [
        {
          "output_type": "stream",
          "name": "stdout",
          "text": [
            "/content/drive/MyDrive/AI-ML/Scene Text/Data\n"
          ]
        }
      ]
    },
    {
      "cell_type": "code",
      "source": [
        "def return_file_name_df(root_dir, x):\n",
        "  arr = os.listdir(root_dir)\n",
        "  col=[]\n",
        "  #print(\"Arr .. \", arr)\n",
        "  for i in arr:\n",
        "    if i == x or i == x+'_gt':   \n",
        "      dir_path = str(root_dir)+'/'+ i\n",
        "      #print(\"Dir_Path .. \",dir_path)\n",
        "      data_root = pathlib.Path(dir_path)\n",
        "      li = list(sorted(data_root.glob('*.*')))\n",
        "      #print(\" li ..  \",li)\n",
        "      li = [str(path) for path in li]\n",
        "      #print(\" Next LI .. \", len(li))\n",
        "      col.append(li)\n",
        "    #print(\"Col ..\",col)\n",
        "  data_df = pd.DataFrame()\n",
        "  data_df['path_img']=col[0]\n",
        "  data_df['path_gt']=col[1]\n",
        "\n",
        "  return data_df"
      ],
      "metadata": {
        "id": "2z-V-lgn8o94"
      },
      "execution_count": 56,
      "outputs": []
    },
    {
      "cell_type": "code",
      "source": [
        "# train_dataframe\n",
        "df_train = return_file_name_df(data_root, 'training')\n",
        "df_train.head()"
      ],
      "metadata": {
        "colab": {
          "base_uri": "https://localhost:8080/",
          "height": 206
        },
        "id": "cGZOLwEf_jTY",
        "outputId": "8803a3cb-0cc4-4797-fc3d-3ca6a47abf1d"
      },
      "execution_count": 57,
      "outputs": [
        {
          "output_type": "execute_result",
          "data": {
            "text/plain": [
              "                                            path_img  \\\n",
              "0  /content/drive/MyDrive/AI-ML/Scene Text/Data/t...   \n",
              "1  /content/drive/MyDrive/AI-ML/Scene Text/Data/t...   \n",
              "2  /content/drive/MyDrive/AI-ML/Scene Text/Data/t...   \n",
              "3  /content/drive/MyDrive/AI-ML/Scene Text/Data/t...   \n",
              "4  /content/drive/MyDrive/AI-ML/Scene Text/Data/t...   \n",
              "\n",
              "                                             path_gt  \n",
              "0  /content/drive/MyDrive/AI-ML/Scene Text/Data/t...  \n",
              "1  /content/drive/MyDrive/AI-ML/Scene Text/Data/t...  \n",
              "2  /content/drive/MyDrive/AI-ML/Scene Text/Data/t...  \n",
              "3  /content/drive/MyDrive/AI-ML/Scene Text/Data/t...  \n",
              "4  /content/drive/MyDrive/AI-ML/Scene Text/Data/t...  "
            ],
            "text/html": [
              "\n",
              "  <div id=\"df-9022f7d8-e683-44c1-a502-7acf49811c5c\">\n",
              "    <div class=\"colab-df-container\">\n",
              "      <div>\n",
              "<style scoped>\n",
              "    .dataframe tbody tr th:only-of-type {\n",
              "        vertical-align: middle;\n",
              "    }\n",
              "\n",
              "    .dataframe tbody tr th {\n",
              "        vertical-align: top;\n",
              "    }\n",
              "\n",
              "    .dataframe thead th {\n",
              "        text-align: right;\n",
              "    }\n",
              "</style>\n",
              "<table border=\"1\" class=\"dataframe\">\n",
              "  <thead>\n",
              "    <tr style=\"text-align: right;\">\n",
              "      <th></th>\n",
              "      <th>path_img</th>\n",
              "      <th>path_gt</th>\n",
              "    </tr>\n",
              "  </thead>\n",
              "  <tbody>\n",
              "    <tr>\n",
              "      <th>0</th>\n",
              "      <td>/content/drive/MyDrive/AI-ML/Scene Text/Data/t...</td>\n",
              "      <td>/content/drive/MyDrive/AI-ML/Scene Text/Data/t...</td>\n",
              "    </tr>\n",
              "    <tr>\n",
              "      <th>1</th>\n",
              "      <td>/content/drive/MyDrive/AI-ML/Scene Text/Data/t...</td>\n",
              "      <td>/content/drive/MyDrive/AI-ML/Scene Text/Data/t...</td>\n",
              "    </tr>\n",
              "    <tr>\n",
              "      <th>2</th>\n",
              "      <td>/content/drive/MyDrive/AI-ML/Scene Text/Data/t...</td>\n",
              "      <td>/content/drive/MyDrive/AI-ML/Scene Text/Data/t...</td>\n",
              "    </tr>\n",
              "    <tr>\n",
              "      <th>3</th>\n",
              "      <td>/content/drive/MyDrive/AI-ML/Scene Text/Data/t...</td>\n",
              "      <td>/content/drive/MyDrive/AI-ML/Scene Text/Data/t...</td>\n",
              "    </tr>\n",
              "    <tr>\n",
              "      <th>4</th>\n",
              "      <td>/content/drive/MyDrive/AI-ML/Scene Text/Data/t...</td>\n",
              "      <td>/content/drive/MyDrive/AI-ML/Scene Text/Data/t...</td>\n",
              "    </tr>\n",
              "  </tbody>\n",
              "</table>\n",
              "</div>\n",
              "      <button class=\"colab-df-convert\" onclick=\"convertToInteractive('df-9022f7d8-e683-44c1-a502-7acf49811c5c')\"\n",
              "              title=\"Convert this dataframe to an interactive table.\"\n",
              "              style=\"display:none;\">\n",
              "        \n",
              "  <svg xmlns=\"http://www.w3.org/2000/svg\" height=\"24px\"viewBox=\"0 0 24 24\"\n",
              "       width=\"24px\">\n",
              "    <path d=\"M0 0h24v24H0V0z\" fill=\"none\"/>\n",
              "    <path d=\"M18.56 5.44l.94 2.06.94-2.06 2.06-.94-2.06-.94-.94-2.06-.94 2.06-2.06.94zm-11 1L8.5 8.5l.94-2.06 2.06-.94-2.06-.94L8.5 2.5l-.94 2.06-2.06.94zm10 10l.94 2.06.94-2.06 2.06-.94-2.06-.94-.94-2.06-.94 2.06-2.06.94z\"/><path d=\"M17.41 7.96l-1.37-1.37c-.4-.4-.92-.59-1.43-.59-.52 0-1.04.2-1.43.59L10.3 9.45l-7.72 7.72c-.78.78-.78 2.05 0 2.83L4 21.41c.39.39.9.59 1.41.59.51 0 1.02-.2 1.41-.59l7.78-7.78 2.81-2.81c.8-.78.8-2.07 0-2.86zM5.41 20L4 18.59l7.72-7.72 1.47 1.35L5.41 20z\"/>\n",
              "  </svg>\n",
              "      </button>\n",
              "      \n",
              "  <style>\n",
              "    .colab-df-container {\n",
              "      display:flex;\n",
              "      flex-wrap:wrap;\n",
              "      gap: 12px;\n",
              "    }\n",
              "\n",
              "    .colab-df-convert {\n",
              "      background-color: #E8F0FE;\n",
              "      border: none;\n",
              "      border-radius: 50%;\n",
              "      cursor: pointer;\n",
              "      display: none;\n",
              "      fill: #1967D2;\n",
              "      height: 32px;\n",
              "      padding: 0 0 0 0;\n",
              "      width: 32px;\n",
              "    }\n",
              "\n",
              "    .colab-df-convert:hover {\n",
              "      background-color: #E2EBFA;\n",
              "      box-shadow: 0px 1px 2px rgba(60, 64, 67, 0.3), 0px 1px 3px 1px rgba(60, 64, 67, 0.15);\n",
              "      fill: #174EA6;\n",
              "    }\n",
              "\n",
              "    [theme=dark] .colab-df-convert {\n",
              "      background-color: #3B4455;\n",
              "      fill: #D2E3FC;\n",
              "    }\n",
              "\n",
              "    [theme=dark] .colab-df-convert:hover {\n",
              "      background-color: #434B5C;\n",
              "      box-shadow: 0px 1px 3px 1px rgba(0, 0, 0, 0.15);\n",
              "      filter: drop-shadow(0px 1px 2px rgba(0, 0, 0, 0.3));\n",
              "      fill: #FFFFFF;\n",
              "    }\n",
              "  </style>\n",
              "\n",
              "      <script>\n",
              "        const buttonEl =\n",
              "          document.querySelector('#df-9022f7d8-e683-44c1-a502-7acf49811c5c button.colab-df-convert');\n",
              "        buttonEl.style.display =\n",
              "          google.colab.kernel.accessAllowed ? 'block' : 'none';\n",
              "\n",
              "        async function convertToInteractive(key) {\n",
              "          const element = document.querySelector('#df-9022f7d8-e683-44c1-a502-7acf49811c5c');\n",
              "          const dataTable =\n",
              "            await google.colab.kernel.invokeFunction('convertToInteractive',\n",
              "                                                     [key], {});\n",
              "          if (!dataTable) return;\n",
              "\n",
              "          const docLinkHtml = 'Like what you see? Visit the ' +\n",
              "            '<a target=\"_blank\" href=https://colab.research.google.com/notebooks/data_table.ipynb>data table notebook</a>'\n",
              "            + ' to learn more about interactive tables.';\n",
              "          element.innerHTML = '';\n",
              "          dataTable['output_type'] = 'display_data';\n",
              "          await google.colab.output.renderOutput(dataTable, element);\n",
              "          const docLink = document.createElement('div');\n",
              "          docLink.innerHTML = docLinkHtml;\n",
              "          element.appendChild(docLink);\n",
              "        }\n",
              "      </script>\n",
              "    </div>\n",
              "  </div>\n",
              "  "
            ]
          },
          "metadata": {},
          "execution_count": 57
        }
      ]
    },
    {
      "cell_type": "code",
      "source": [
        "# test_dataframe\n",
        "df_test = return_file_name_df(data_root, 'test')\n",
        "df_test.head()"
      ],
      "metadata": {
        "colab": {
          "base_uri": "https://localhost:8080/",
          "height": 206
        },
        "id": "9awRABSRAK8U",
        "outputId": "0ebedcc0-9683-4b4b-c9c4-d0106055c1a6"
      },
      "execution_count": 61,
      "outputs": [
        {
          "output_type": "execute_result",
          "data": {
            "text/plain": [
              "                                            path_img  \\\n",
              "0  /content/drive/MyDrive/AI-ML/Scene Text/Data/t...   \n",
              "1  /content/drive/MyDrive/AI-ML/Scene Text/Data/t...   \n",
              "2  /content/drive/MyDrive/AI-ML/Scene Text/Data/t...   \n",
              "3  /content/drive/MyDrive/AI-ML/Scene Text/Data/t...   \n",
              "4  /content/drive/MyDrive/AI-ML/Scene Text/Data/t...   \n",
              "\n",
              "                                             path_gt  \n",
              "0  /content/drive/MyDrive/AI-ML/Scene Text/Data/t...  \n",
              "1  /content/drive/MyDrive/AI-ML/Scene Text/Data/t...  \n",
              "2  /content/drive/MyDrive/AI-ML/Scene Text/Data/t...  \n",
              "3  /content/drive/MyDrive/AI-ML/Scene Text/Data/t...  \n",
              "4  /content/drive/MyDrive/AI-ML/Scene Text/Data/t...  "
            ],
            "text/html": [
              "\n",
              "  <div id=\"df-f15e47d0-ffe7-4a74-b679-2ef459811598\">\n",
              "    <div class=\"colab-df-container\">\n",
              "      <div>\n",
              "<style scoped>\n",
              "    .dataframe tbody tr th:only-of-type {\n",
              "        vertical-align: middle;\n",
              "    }\n",
              "\n",
              "    .dataframe tbody tr th {\n",
              "        vertical-align: top;\n",
              "    }\n",
              "\n",
              "    .dataframe thead th {\n",
              "        text-align: right;\n",
              "    }\n",
              "</style>\n",
              "<table border=\"1\" class=\"dataframe\">\n",
              "  <thead>\n",
              "    <tr style=\"text-align: right;\">\n",
              "      <th></th>\n",
              "      <th>path_img</th>\n",
              "      <th>path_gt</th>\n",
              "    </tr>\n",
              "  </thead>\n",
              "  <tbody>\n",
              "    <tr>\n",
              "      <th>0</th>\n",
              "      <td>/content/drive/MyDrive/AI-ML/Scene Text/Data/t...</td>\n",
              "      <td>/content/drive/MyDrive/AI-ML/Scene Text/Data/t...</td>\n",
              "    </tr>\n",
              "    <tr>\n",
              "      <th>1</th>\n",
              "      <td>/content/drive/MyDrive/AI-ML/Scene Text/Data/t...</td>\n",
              "      <td>/content/drive/MyDrive/AI-ML/Scene Text/Data/t...</td>\n",
              "    </tr>\n",
              "    <tr>\n",
              "      <th>2</th>\n",
              "      <td>/content/drive/MyDrive/AI-ML/Scene Text/Data/t...</td>\n",
              "      <td>/content/drive/MyDrive/AI-ML/Scene Text/Data/t...</td>\n",
              "    </tr>\n",
              "    <tr>\n",
              "      <th>3</th>\n",
              "      <td>/content/drive/MyDrive/AI-ML/Scene Text/Data/t...</td>\n",
              "      <td>/content/drive/MyDrive/AI-ML/Scene Text/Data/t...</td>\n",
              "    </tr>\n",
              "    <tr>\n",
              "      <th>4</th>\n",
              "      <td>/content/drive/MyDrive/AI-ML/Scene Text/Data/t...</td>\n",
              "      <td>/content/drive/MyDrive/AI-ML/Scene Text/Data/t...</td>\n",
              "    </tr>\n",
              "  </tbody>\n",
              "</table>\n",
              "</div>\n",
              "      <button class=\"colab-df-convert\" onclick=\"convertToInteractive('df-f15e47d0-ffe7-4a74-b679-2ef459811598')\"\n",
              "              title=\"Convert this dataframe to an interactive table.\"\n",
              "              style=\"display:none;\">\n",
              "        \n",
              "  <svg xmlns=\"http://www.w3.org/2000/svg\" height=\"24px\"viewBox=\"0 0 24 24\"\n",
              "       width=\"24px\">\n",
              "    <path d=\"M0 0h24v24H0V0z\" fill=\"none\"/>\n",
              "    <path d=\"M18.56 5.44l.94 2.06.94-2.06 2.06-.94-2.06-.94-.94-2.06-.94 2.06-2.06.94zm-11 1L8.5 8.5l.94-2.06 2.06-.94-2.06-.94L8.5 2.5l-.94 2.06-2.06.94zm10 10l.94 2.06.94-2.06 2.06-.94-2.06-.94-.94-2.06-.94 2.06-2.06.94z\"/><path d=\"M17.41 7.96l-1.37-1.37c-.4-.4-.92-.59-1.43-.59-.52 0-1.04.2-1.43.59L10.3 9.45l-7.72 7.72c-.78.78-.78 2.05 0 2.83L4 21.41c.39.39.9.59 1.41.59.51 0 1.02-.2 1.41-.59l7.78-7.78 2.81-2.81c.8-.78.8-2.07 0-2.86zM5.41 20L4 18.59l7.72-7.72 1.47 1.35L5.41 20z\"/>\n",
              "  </svg>\n",
              "      </button>\n",
              "      \n",
              "  <style>\n",
              "    .colab-df-container {\n",
              "      display:flex;\n",
              "      flex-wrap:wrap;\n",
              "      gap: 12px;\n",
              "    }\n",
              "\n",
              "    .colab-df-convert {\n",
              "      background-color: #E8F0FE;\n",
              "      border: none;\n",
              "      border-radius: 50%;\n",
              "      cursor: pointer;\n",
              "      display: none;\n",
              "      fill: #1967D2;\n",
              "      height: 32px;\n",
              "      padding: 0 0 0 0;\n",
              "      width: 32px;\n",
              "    }\n",
              "\n",
              "    .colab-df-convert:hover {\n",
              "      background-color: #E2EBFA;\n",
              "      box-shadow: 0px 1px 2px rgba(60, 64, 67, 0.3), 0px 1px 3px 1px rgba(60, 64, 67, 0.15);\n",
              "      fill: #174EA6;\n",
              "    }\n",
              "\n",
              "    [theme=dark] .colab-df-convert {\n",
              "      background-color: #3B4455;\n",
              "      fill: #D2E3FC;\n",
              "    }\n",
              "\n",
              "    [theme=dark] .colab-df-convert:hover {\n",
              "      background-color: #434B5C;\n",
              "      box-shadow: 0px 1px 3px 1px rgba(0, 0, 0, 0.15);\n",
              "      filter: drop-shadow(0px 1px 2px rgba(0, 0, 0, 0.3));\n",
              "      fill: #FFFFFF;\n",
              "    }\n",
              "  </style>\n",
              "\n",
              "      <script>\n",
              "        const buttonEl =\n",
              "          document.querySelector('#df-f15e47d0-ffe7-4a74-b679-2ef459811598 button.colab-df-convert');\n",
              "        buttonEl.style.display =\n",
              "          google.colab.kernel.accessAllowed ? 'block' : 'none';\n",
              "\n",
              "        async function convertToInteractive(key) {\n",
              "          const element = document.querySelector('#df-f15e47d0-ffe7-4a74-b679-2ef459811598');\n",
              "          const dataTable =\n",
              "            await google.colab.kernel.invokeFunction('convertToInteractive',\n",
              "                                                     [key], {});\n",
              "          if (!dataTable) return;\n",
              "\n",
              "          const docLinkHtml = 'Like what you see? Visit the ' +\n",
              "            '<a target=\"_blank\" href=https://colab.research.google.com/notebooks/data_table.ipynb>data table notebook</a>'\n",
              "            + ' to learn more about interactive tables.';\n",
              "          element.innerHTML = '';\n",
              "          dataTable['output_type'] = 'display_data';\n",
              "          await google.colab.output.renderOutput(dataTable, element);\n",
              "          const docLink = document.createElement('div');\n",
              "          docLink.innerHTML = docLinkHtml;\n",
              "          element.appendChild(docLink);\n",
              "        }\n",
              "      </script>\n",
              "    </div>\n",
              "  </div>\n",
              "  "
            ]
          },
          "metadata": {},
          "execution_count": 61
        }
      ]
    },
    {
      "cell_type": "code",
      "source": [
        "# Getting dimension, channels & extension of all images in train dataframe\n",
        "def image_details(df):\n",
        "  dim, channel, extnsn = [],[],[]\n",
        "  \n",
        "  #for path in df_train['path_img'].values:\n",
        "  for path in df.values:\n",
        "    img = cv2.imread(path)\n",
        "    dim.append(img.shape[:2])\n",
        "    channel.append(img.shape[2])\n",
        "    extnsn.append(path.split('.')[-1])\n",
        "\n",
        "  print('Dimension of all images:',set(dim))\n",
        "  print('No. channels of all images:',set(channel))\n",
        "  print('Extesions of all images:',set(extnsn))"
      ],
      "metadata": {
        "id": "PahNQXF5NeP1"
      },
      "execution_count": 62,
      "outputs": []
    },
    {
      "cell_type": "code",
      "source": [
        "# Getting dimension, channels & extension of all images in train dataframe\n",
        "image_details(df_train['path_img'])"
      ],
      "metadata": {
        "colab": {
          "base_uri": "https://localhost:8080/"
        },
        "id": "9JofOjTiPkvY",
        "outputId": "69389a4c-445f-4fff-f718-1b522e373cf7"
      },
      "execution_count": 63,
      "outputs": [
        {
          "output_type": "stream",
          "name": "stdout",
          "text": [
            "Dimension of all images: {(720, 1280)}\n",
            "No. channels of all images: {3}\n",
            "Extesions of all images: {'jpg'}\n"
          ]
        }
      ]
    },
    {
      "cell_type": "code",
      "source": [
        "# Getting dimension, channels & extension of all images in train dataframe\n",
        "image_details(df_test['path_img'])"
      ],
      "metadata": {
        "colab": {
          "base_uri": "https://localhost:8080/"
        },
        "id": "pjc_pOsMPy0U",
        "outputId": "e1210aab-7b98-424d-e599-e9fab75b6acc"
      },
      "execution_count": 64,
      "outputs": [
        {
          "output_type": "stream",
          "name": "stdout",
          "text": [
            "Dimension of all images: {(720, 1280)}\n",
            "No. channels of all images: {3}\n",
            "Extesions of all images: {'jpg'}\n"
          ]
        }
      ]
    },
    {
      "cell_type": "code",
      "source": [],
      "metadata": {
        "id": "clWhTBfLQd3D"
      },
      "execution_count": null,
      "outputs": []
    }
  ]
}